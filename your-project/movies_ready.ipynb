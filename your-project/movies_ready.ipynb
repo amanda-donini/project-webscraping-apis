{
 "cells": [
  {
   "cell_type": "code",
   "execution_count": 15,
   "metadata": {},
   "outputs": [],
   "source": [
    "import requests\n",
    "import os\n",
    "from dotenv import load_dotenv, find_dotenv\n",
    "import pandas as pd\n"
   ]
  },
  {
   "cell_type": "code",
   "execution_count": 16,
   "metadata": {},
   "outputs": [],
   "source": [
    "base_url = \"https://api.themoviedb.org/3\""
   ]
  },
  {
   "cell_type": "code",
   "execution_count": 17,
   "metadata": {},
   "outputs": [],
   "source": [
    "page = 1\n",
    "all_movies = []\n",
    "load_dotenv()\n",
    "api_key = os.getenv(\"API_KEY\")\n",
    "\n",
    "while True:\n",
    "    url = f\"{base_url}/movie/popular?api_key={api_key}&page={page}\"\n",
    "    response = requests.get(url)\n",
    "    \n",
    "    if response.status_code == 200:\n",
    "        data = response.json()\n",
    "        movies = data.get('results', [])\n",
    "\n",
    "        if not movies:\n",
    "            break\n",
    "        \n",
    "        all_movies.extend(movies)\n",
    "        page += 1\n",
    "    else:\n",
    "        break\n"
   ]
  },
  {
   "cell_type": "code",
   "execution_count": 18,
   "metadata": {},
   "outputs": [],
   "source": [
    "#control variables - to be called if error to check status\n",
    "max_pages_from = (f\"Error: Unable to retrieve movies from page {page}\")\n",
    "movies_retrieved = (f\"Total movies retrieved: {len(all_movies)}\")"
   ]
  },
  {
   "cell_type": "code",
   "execution_count": 19,
   "metadata": {},
   "outputs": [],
   "source": [
    "all_movies_df = pd.DataFrame(all_movies)"
   ]
  },
  {
   "cell_type": "markdown",
   "metadata": {},
   "source": [
    "DATA FRAME CLEAN"
   ]
  },
  {
   "cell_type": "code",
   "execution_count": 20,
   "metadata": {},
   "outputs": [
    {
     "name": "stderr",
     "output_type": "stream",
     "text": [
      "/var/folders/n7/qn8s75510p5chs7mw2tvcgy80000gp/T/ipykernel_6689/467950752.py:9: FutureWarning: The default value of regex will change from True to False in a future version. In addition, single character regular expressions will *not* be treated as literal strings when regex=True.\n",
      "  all_movies_df['genre_ids'] = all_movies_df['genre_ids'].str.replace('[', '').str.replace(']', '')\n"
     ]
    }
   ],
   "source": [
    "all_movies_df = pd.DataFrame(all_movies)\n",
    "# Delete: adult, popularity, video, & vote count\n",
    "no_use_columns = ['adult', 'backdrop_path', 'popularity', 'video', 'vote_count' ]\n",
    "# we delete\n",
    "all_movies_df = all_movies_df.drop(no_use_columns, axis=1)\n",
    "# convert genres id column to string\n",
    "all_movies_df['genre_ids'] = all_movies_df['genre_ids'].astype(str)\n",
    "# clean the strings\n",
    "all_movies_df['genre_ids'] = all_movies_df['genre_ids'].str.replace('[', '').str.replace(']', '')\n",
    "# division of column genres id by coma\n",
    "all_movies_df['genre_ids'] = all_movies_df['genre_ids'].str.split(',').str[0]\n"
   ]
  },
  {
   "cell_type": "code",
   "execution_count": 21,
   "metadata": {},
   "outputs": [],
   "source": [
    "#from API\n",
    "genre_mapping = {\n",
    "    28: \"Action\",\n",
    "    12: \"Adventure\",\n",
    "    16: \"Animation\",\n",
    "    35: \"Comedy\",\n",
    "    80: \"Crime\",\n",
    "    99: \"Documentary\",\n",
    "    18: \"Drama\",\n",
    "    10751: \"Family\",\n",
    "    14: \"Fantasy\",\n",
    "    36: \"History\",\n",
    "    27: \"Horror\",\n",
    "    10402: \"Music\",\n",
    "    9648: \"Mystery\",\n",
    "    10749: \"Romance\",\n",
    "    878: \"Science Fiction\",\n",
    "    10770: \"TV Movie\",\n",
    "    53: \"Thriller\",\n",
    "    10752: \"War\",\n",
    "    37: \"Western\"\n",
    "}\n"
   ]
  },
  {
   "cell_type": "code",
   "execution_count": 22,
   "metadata": {},
   "outputs": [],
   "source": [
    "# Replace the numbers in the 'genre_ids' column with the corresponding wordsdef map_genre_ids(genre_ids):\n",
    "def map_genre_ids(genre_ids):\n",
    "    split_ids = genre_ids.split(',')\n",
    "    mapped_genres = [genre_mapping.get(int(val.strip()), val.strip()) for val in split_ids if val.strip()]\n",
    "    return ', '.join(mapped_genres)\n",
    "\n",
    "all_movies_df['genre_ids'] = all_movies_df['genre_ids'].apply(map_genre_ids)"
   ]
  },
  {
   "cell_type": "code",
   "execution_count": 23,
   "metadata": {},
   "outputs": [],
   "source": [
    "\n",
    "genre_mapping = {\n",
    "    \"Action\",\n",
    "    \"Adventure\",\n",
    "    \"Animation\",\n",
    "    \"Comedy\",\n",
    "    \"Crime\",\n",
    "    \"Documentary\",\n",
    "    \"Drama\",\n",
    "    \"Family\",\n",
    "    \"Fantasy\",\n",
    "    \"History\",\n",
    "    \"Horror\",\n",
    "    \"Music\",\n",
    "    \"Mystery\",\n",
    "    \"Romance\",\n",
    "    \"Science Fiction\",\n",
    "    \"TV Movie\",\n",
    "    \"Thriller\",\n",
    "    \"War\",\n",
    "    \"Western\"\n",
    "}"
   ]
  },
  {
   "cell_type": "code",
   "execution_count": 24,
   "metadata": {},
   "outputs": [],
   "source": [
    "#Make sure 'vote_average' is numeric\n",
    "all_movies_df['vote_average'] = pd.to_numeric(all_movies_df['vote_average'], errors='coerce')\n",
    "\n",
    "# Create separate DataFrames for each gender and select the 250 highest 'vote_average' values\n",
    "genre_dataframes = {}\n",
    "for genre in genre_mapping:\n",
    "    genre_df = all_movies_df[all_movies_df['genre_ids'].str.contains(genre)]\n",
    "    genre_df = genre_df.nlargest(250, 'vote_average')\n",
    "    genre_dataframes[genre] = genre_df\n",
    "\n",
    "# Concatenate the DataFrames of all genres into one\n",
    "top_250_movies_by_genre = pd.concat(genre_dataframes.values(), ignore_index=True)\n",
    "\n",
    "top_250_movies_by_genre = top_250_movies_by_genre.applymap(lambda x: x.lower() if isinstance(x, str) else x)"
   ]
  },
  {
   "cell_type": "code",
   "execution_count": 25,
   "metadata": {},
   "outputs": [],
   "source": [
    "selected_columns = [\"title\", \"overview\", \"vote_average\", \"genre_ids\"]\n",
    "top_250_movies_by_genre = top_250_movies_by_genre[selected_columns]\n",
    "top_250_movies_by_genre.rename(columns={\"genre_ids\": \"genre\"}, inplace=True)\n",
    "top_250_movies_by_genre.rename(columns={\"vote_average\": \"rating\"}, inplace=True)"
   ]
  },
  {
   "cell_type": "code",
   "execution_count": 26,
   "metadata": {},
   "outputs": [],
   "source": [
    "file_path = 'top_250_movies_by_genre.csv'\n",
    "\n",
    "top_250_movies_by_genre.to_csv(file_path, index=False) "
   ]
  }
 ],
 "metadata": {
  "kernelspec": {
   "display_name": "base",
   "language": "python",
   "name": "python3"
  },
  "language_info": {
   "codemirror_mode": {
    "name": "ipython",
    "version": 3
   },
   "file_extension": ".py",
   "mimetype": "text/x-python",
   "name": "python",
   "nbconvert_exporter": "python",
   "pygments_lexer": "ipython3",
   "version": "3.11.3"
  },
  "orig_nbformat": 4
 },
 "nbformat": 4,
 "nbformat_minor": 2
}
